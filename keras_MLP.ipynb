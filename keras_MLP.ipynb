{
 "cells": [
  {
   "cell_type": "markdown",
   "metadata": {},
   "source": [
    "- 基于多层感知器的softmax多分类："
   ]
  },
  {
   "cell_type": "code",
   "execution_count": 3,
   "metadata": {},
   "outputs": [
    {
     "name": "stdout",
     "output_type": "stream",
     "text": [
      "Epoch 1/20\n",
      "1000/1000 [==============================] - 1s 601us/step - loss: 2.4008 - acc: 0.0910\n",
      "Epoch 2/20\n",
      "1000/1000 [==============================] - 0s 47us/step - loss: 2.3817 - acc: 0.0960\n",
      "Epoch 3/20\n",
      "1000/1000 [==============================] - 0s 38us/step - loss: 2.3451 - acc: 0.0860\n",
      "Epoch 4/20\n",
      "1000/1000 [==============================] - 0s 35us/step - loss: 2.3264 - acc: 0.0960\n",
      "Epoch 5/20\n",
      "1000/1000 [==============================] - 0s 32us/step - loss: 2.3184 - acc: 0.1100\n",
      "Epoch 6/20\n",
      "1000/1000 [==============================] - 0s 34us/step - loss: 2.3129 - acc: 0.1130\n",
      "Epoch 7/20\n",
      "1000/1000 [==============================] - 0s 33us/step - loss: 2.3172 - acc: 0.1050\n",
      "Epoch 8/20\n",
      "1000/1000 [==============================] - 0s 40us/step - loss: 2.3153 - acc: 0.1060\n",
      "Epoch 9/20\n",
      "1000/1000 [==============================] - 0s 36us/step - loss: 2.3150 - acc: 0.0820\n",
      "Epoch 10/20\n",
      "1000/1000 [==============================] - 0s 38us/step - loss: 2.3128 - acc: 0.0950\n",
      "Epoch 11/20\n",
      "1000/1000 [==============================] - 0s 35us/step - loss: 2.3127 - acc: 0.0960\n",
      "Epoch 12/20\n",
      "1000/1000 [==============================] - 0s 35us/step - loss: 2.3114 - acc: 0.1000\n",
      "Epoch 13/20\n",
      "1000/1000 [==============================] - 0s 37us/step - loss: 2.3086 - acc: 0.1070\n",
      "Epoch 14/20\n",
      "1000/1000 [==============================] - 0s 34us/step - loss: 2.3088 - acc: 0.1210\n",
      "Epoch 15/20\n",
      "1000/1000 [==============================] - 0s 28us/step - loss: 2.3032 - acc: 0.1070\n",
      "Epoch 16/20\n",
      "1000/1000 [==============================] - 0s 38us/step - loss: 2.3036 - acc: 0.1150\n",
      "Epoch 17/20\n",
      "1000/1000 [==============================] - 0s 38us/step - loss: 2.3070 - acc: 0.1150\n",
      "Epoch 18/20\n",
      "1000/1000 [==============================] - 0s 41us/step - loss: 2.3050 - acc: 0.1050\n",
      "Epoch 19/20\n",
      "1000/1000 [==============================] - 0s 33us/step - loss: 2.3029 - acc: 0.1110\n",
      "Epoch 20/20\n",
      "1000/1000 [==============================] - 0s 26us/step - loss: 2.3001 - acc: 0.1160\n",
      "100/100 [==============================] - 0s 691us/step\n"
     ]
    }
   ],
   "source": [
    "from keras.models import Sequential\n",
    "from keras.layers import Dense, Dropout, Activation\n",
    "from keras.optimizers import SGD\n",
    "import keras\n",
    "\n",
    "# Generate dummy data\n",
    "import numpy as np\n",
    "x_train = np.random.random((1000, 20))\n",
    "y_train = keras.utils.to_categorical(np.random.randint(10, size=(1000, 1)), num_classes=10)\n",
    "x_test = np.random.random((100, 20))\n",
    "y_test = keras.utils.to_categorical(np.random.randint(10, size=(100, 1)), num_classes=10)\n",
    "\n",
    "model = Sequential()\n",
    "# Dense(64) is a fully-connected layer with 64 hidden units.\n",
    "# in the first layer, you must specify the expected input data shape:\n",
    "# here, 20-dimensional vectors.\n",
    "model.add(Dense(64, activation='relu', input_dim=20))\n",
    "model.add(Dropout(0.5))\n",
    "model.add(Dense(64, activation='relu'))\n",
    "model.add(Dropout(0.5))\n",
    "model.add(Dense(10, activation='softmax'))\n",
    "\n",
    "sgd = SGD(lr=0.01, decay=1e-6, momentum=0.9, nesterov=True)\n",
    "model.compile(loss='categorical_crossentropy',\n",
    "              optimizer=sgd,\n",
    "              metrics=['accuracy'])\n",
    "\n",
    "model.fit(x_train, y_train,\n",
    "          epochs=20,\n",
    "          batch_size=128)\n",
    "score = model.evaluate(x_test, y_test, batch_size=128)"
   ]
  },
  {
   "cell_type": "code",
   "execution_count": 4,
   "metadata": {},
   "outputs": [
    {
     "data": {
      "text/plain": [
       "[2.303212881088257, 0.10000000149011612]"
      ]
     },
     "execution_count": 4,
     "metadata": {},
     "output_type": "execute_result"
    }
   ],
   "source": [
    "score"
   ]
  },
  {
   "cell_type": "markdown",
   "metadata": {},
   "source": [
    "- MLP的二分类："
   ]
  },
  {
   "cell_type": "code",
   "execution_count": 5,
   "metadata": {},
   "outputs": [
    {
     "name": "stdout",
     "output_type": "stream",
     "text": [
      "Epoch 1/20\n",
      "1000/1000 [==============================] - 1s 591us/step - loss: 0.7152 - acc: 0.5160\n",
      "Epoch 2/20\n",
      "1000/1000 [==============================] - 0s 24us/step - loss: 0.7105 - acc: 0.4930\n",
      "Epoch 3/20\n",
      "1000/1000 [==============================] - 0s 26us/step - loss: 0.6949 - acc: 0.5250\n",
      "Epoch 4/20\n",
      "1000/1000 [==============================] - 0s 22us/step - loss: 0.6967 - acc: 0.5160\n",
      "Epoch 5/20\n",
      "1000/1000 [==============================] - 0s 25us/step - loss: 0.6932 - acc: 0.5410\n",
      "Epoch 6/20\n",
      "1000/1000 [==============================] - 0s 24us/step - loss: 0.7015 - acc: 0.5000\n",
      "Epoch 7/20\n",
      "1000/1000 [==============================] - 0s 27us/step - loss: 0.6942 - acc: 0.5250\n",
      "Epoch 8/20\n",
      "1000/1000 [==============================] - 0s 27us/step - loss: 0.6938 - acc: 0.5190\n",
      "Epoch 9/20\n",
      "1000/1000 [==============================] - 0s 27us/step - loss: 0.6956 - acc: 0.5330\n",
      "Epoch 10/20\n",
      "1000/1000 [==============================] - 0s 27us/step - loss: 0.7021 - acc: 0.4850\n",
      "Epoch 11/20\n",
      "1000/1000 [==============================] - 0s 25us/step - loss: 0.6947 - acc: 0.5130\n",
      "Epoch 12/20\n",
      "1000/1000 [==============================] - 0s 26us/step - loss: 0.6932 - acc: 0.5270\n",
      "Epoch 13/20\n",
      "1000/1000 [==============================] - 0s 25us/step - loss: 0.6943 - acc: 0.5170\n",
      "Epoch 14/20\n",
      "1000/1000 [==============================] - 0s 23us/step - loss: 0.6911 - acc: 0.5150\n",
      "Epoch 15/20\n",
      "1000/1000 [==============================] - 0s 23us/step - loss: 0.6924 - acc: 0.5010\n",
      "Epoch 16/20\n",
      "1000/1000 [==============================] - 0s 23us/step - loss: 0.6941 - acc: 0.5250\n",
      "Epoch 17/20\n",
      "1000/1000 [==============================] - 0s 23us/step - loss: 0.6924 - acc: 0.5270\n",
      "Epoch 18/20\n",
      "1000/1000 [==============================] - 0s 25us/step - loss: 0.6902 - acc: 0.5250\n",
      "Epoch 19/20\n",
      "1000/1000 [==============================] - 0s 23us/step - loss: 0.6903 - acc: 0.5310\n",
      "Epoch 20/20\n",
      "1000/1000 [==============================] - 0s 23us/step - loss: 0.6912 - acc: 0.5340\n",
      "100/100 [==============================] - 0s 915us/step\n"
     ]
    }
   ],
   "source": [
    "import numpy as np\n",
    "from keras.models import Sequential\n",
    "from keras.layers import Dense, Dropout\n",
    "\n",
    "# Generate dummy data\n",
    "x_train = np.random.random((1000, 20))\n",
    "y_train = np.random.randint(2, size=(1000, 1))\n",
    "x_test = np.random.random((100, 20))\n",
    "y_test = np.random.randint(2, size=(100, 1))\n",
    "\n",
    "model = Sequential()\n",
    "model.add(Dense(64, input_dim=20, activation='relu'))\n",
    "model.add(Dropout(0.5))\n",
    "model.add(Dense(64, activation='relu'))\n",
    "model.add(Dropout(0.5))\n",
    "model.add(Dense(1, activation='sigmoid'))\n",
    "\n",
    "model.compile(loss='binary_crossentropy',\n",
    "              optimizer='rmsprop',\n",
    "              metrics=['accuracy'])\n",
    "model.fit(x_train, y_train,\n",
    "          epochs=20,\n",
    "          batch_size=128)\n",
    "score = model.evaluate(x_test, y_test, batch_size=128)"
   ]
  },
  {
   "cell_type": "markdown",
   "metadata": {},
   "source": [
    "- 类似VGG的卷积神经网络："
   ]
  },
  {
   "cell_type": "code",
   "execution_count": 6,
   "metadata": {},
   "outputs": [
    {
     "name": "stdout",
     "output_type": "stream",
     "text": [
      "Epoch 1/10\n",
      "100/100 [==============================] - 7s 69ms/step - loss: 2.3302\n",
      "Epoch 2/10\n",
      "100/100 [==============================] - 5s 51ms/step - loss: 2.3272\n",
      "Epoch 3/10\n",
      "100/100 [==============================] - 5s 50ms/step - loss: 2.2671\n",
      "Epoch 4/10\n",
      "100/100 [==============================] - 5s 51ms/step - loss: 2.2820\n",
      "Epoch 5/10\n",
      "100/100 [==============================] - 5s 51ms/step - loss: 2.2516\n",
      "Epoch 6/10\n",
      "100/100 [==============================] - 5s 51ms/step - loss: 2.2845\n",
      "Epoch 7/10\n",
      "100/100 [==============================] - 5s 50ms/step - loss: 2.2979\n",
      "Epoch 8/10\n",
      "100/100 [==============================] - 5s 50ms/step - loss: 2.2651\n",
      "Epoch 9/10\n",
      "100/100 [==============================] - 5s 51ms/step - loss: 2.2733\n",
      "Epoch 10/10\n",
      "100/100 [==============================] - 5s 51ms/step - loss: 2.2914\n",
      "20/20 [==============================] - 1s 29ms/step\n"
     ]
    }
   ],
   "source": [
    "import numpy as np\n",
    "import keras\n",
    "from keras.models import Sequential\n",
    "from keras.layers import Dense, Dropout, Flatten\n",
    "from keras.layers import Conv2D, MaxPooling2D\n",
    "from keras.optimizers import SGD\n",
    "\n",
    "# Generate dummy data\n",
    "x_train = np.random.random((100, 100, 100, 3))\n",
    "y_train = keras.utils.to_categorical(np.random.randint(10, size=(100, 1)), num_classes=10)\n",
    "x_test = np.random.random((20, 100, 100, 3))\n",
    "y_test = keras.utils.to_categorical(np.random.randint(10, size=(20, 1)), num_classes=10)\n",
    "\n",
    "model = Sequential()\n",
    "# input: 100x100 images with 3 channels -> (100, 100, 3) tensors.\n",
    "# this applies 32 convolution filters of size 3x3 each.\n",
    "model.add(Conv2D(32, (3, 3), activation='relu', input_shape=(100, 100, 3)))\n",
    "model.add(Conv2D(32, (3, 3), activation='relu'))\n",
    "model.add(MaxPooling2D(pool_size=(2, 2)))\n",
    "model.add(Dropout(0.25))\n",
    "\n",
    "model.add(Conv2D(64, (3, 3), activation='relu'))\n",
    "model.add(Conv2D(64, (3, 3), activation='relu'))\n",
    "model.add(MaxPooling2D(pool_size=(2, 2)))\n",
    "model.add(Dropout(0.25))\n",
    "\n",
    "model.add(Flatten())\n",
    "model.add(Dense(256, activation='relu'))\n",
    "model.add(Dropout(0.5))\n",
    "model.add(Dense(10, activation='softmax'))\n",
    "\n",
    "sgd = SGD(lr=0.01, decay=1e-6, momentum=0.9, nesterov=True)\n",
    "model.compile(loss='categorical_crossentropy', optimizer=sgd)\n",
    "\n",
    "model.fit(x_train, y_train, batch_size=32, epochs=10)\n",
    "score = model.evaluate(x_test, y_test, batch_size=32)"
   ]
  }
 ],
 "metadata": {
  "kernelspec": {
   "display_name": "Python 3",
   "language": "python",
   "name": "python3"
  },
  "language_info": {
   "codemirror_mode": {
    "name": "ipython",
    "version": 3
   },
   "file_extension": ".py",
   "mimetype": "text/x-python",
   "name": "python",
   "nbconvert_exporter": "python",
   "pygments_lexer": "ipython3",
   "version": "3.6.5"
  }
 },
 "nbformat": 4,
 "nbformat_minor": 2
}
